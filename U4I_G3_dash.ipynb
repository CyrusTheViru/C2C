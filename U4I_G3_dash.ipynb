{
 "cells": [
  {
   "cell_type": "markdown",
   "id": "8abba1af",
   "metadata": {},
   "source": [
    "#### Links zu hilfreichen Webseiten:\n",
    "\n",
    "- Plotly Dash Docs: https://dash.plotly.com/\n",
    "- Bootstrap Components: https://dash-bootstrap-components.opensource.faculty.ai/docs/components/\n"
   ]
  },
  {
   "cell_type": "markdown",
   "id": "e195237f",
   "metadata": {},
   "source": [
    "# 1. Layout\n"
   ]
  },
  {
   "cell_type": "markdown",
   "id": "7d617da2",
   "metadata": {},
   "source": [
    "## 1.1. Dash html components\n"
   ]
  },
  {
   "cell_type": "code",
   "execution_count": 1,
   "id": "73272801",
   "metadata": {},
   "outputs": [],
   "source": [
    "import numpy as np\n",
    "import pandas as pd"
   ]
  },
  {
   "cell_type": "code",
   "execution_count": 10,
   "id": "aecbeefd",
   "metadata": {},
   "outputs": [],
   "source": [
    "df = pd.read_csv(\"Log_SensorCar_USS.csv\")"
   ]
  },
  {
   "cell_type": "code",
   "execution_count": 11,
   "id": "01a26ef6",
   "metadata": {
    "scrolled": true
   },
   "outputs": [
    {
     "name": "stdout",
     "output_type": "stream",
     "text": [
      "<class 'pandas.core.frame.DataFrame'>\n",
      "RangeIndex: 5087 entries, 0 to 5086\n",
      "Data columns (total 5 columns):\n",
      " #   Column             Non-Null Count  Dtype \n",
      "---  ------             --------------  ----- \n",
      " 0   Zeit               5087 non-null   object\n",
      " 1   Geschwindigkeit    5087 non-null   object\n",
      " 2   Fahrtrichtung      5087 non-null   object\n",
      " 3   Lenkwinkel         5087 non-null   object\n",
      " 4   Abstand_Hindernis  5087 non-null   object\n",
      "dtypes: object(5)\n",
      "memory usage: 198.8+ KB\n"
     ]
    }
   ],
   "source": [
    "df.info()"
   ]
  },
  {
   "cell_type": "code",
   "execution_count": 12,
   "id": "bcc742f6",
   "metadata": {
    "scrolled": true,
    "slideshow": {
     "slide_type": ""
    }
   },
   "outputs": [
    {
     "data": {
      "text/plain": [
       "0    ###\n",
       "1      0\n",
       "2     50\n",
       "3     50\n",
       "4     50\n",
       "Name: Geschwindigkeit, dtype: object"
      ]
     },
     "execution_count": 12,
     "metadata": {},
     "output_type": "execute_result"
    }
   ],
   "source": [
    "df[\"Geschwindigkeit\"].head()"
   ]
  },
  {
   "cell_type": "code",
   "execution_count": 13,
   "id": "905be2ee",
   "metadata": {},
   "outputs": [
    {
     "data": {
      "text/plain": [
       "'###'"
      ]
     },
     "execution_count": 13,
     "metadata": {},
     "output_type": "execute_result"
    }
   ],
   "source": [
    "df[\"Geschwindigkeit\"].min()"
   ]
  },
  {
   "cell_type": "code",
   "execution_count": 71,
   "id": "1735948e",
   "metadata": {},
   "outputs": [
    {
     "ename": "KeyError",
     "evalue": "'Geschwindigkeit'",
     "output_type": "error",
     "traceback": [
      "\u001b[1;31m---------------------------------------------------------------------------\u001b[0m",
      "\u001b[1;31mKeyError\u001b[0m                                  Traceback (most recent call last)",
      "\u001b[1;32mC:\\Software\\WPy64-3980\\python-3.9.8.amd64\\lib\\site-packages\\pandas\\core\\indexes\\base.py\u001b[0m in \u001b[0;36mget_loc\u001b[1;34m(self, key, method, tolerance)\u001b[0m\n\u001b[0;32m   3360\u001b[0m             \u001b[1;32mtry\u001b[0m\u001b[1;33m:\u001b[0m\u001b[1;33m\u001b[0m\u001b[1;33m\u001b[0m\u001b[0m\n\u001b[1;32m-> 3361\u001b[1;33m                 \u001b[1;32mreturn\u001b[0m \u001b[0mself\u001b[0m\u001b[1;33m.\u001b[0m\u001b[0m_engine\u001b[0m\u001b[1;33m.\u001b[0m\u001b[0mget_loc\u001b[0m\u001b[1;33m(\u001b[0m\u001b[0mcasted_key\u001b[0m\u001b[1;33m)\u001b[0m\u001b[1;33m\u001b[0m\u001b[1;33m\u001b[0m\u001b[0m\n\u001b[0m\u001b[0;32m   3362\u001b[0m             \u001b[1;32mexcept\u001b[0m \u001b[0mKeyError\u001b[0m \u001b[1;32mas\u001b[0m \u001b[0merr\u001b[0m\u001b[1;33m:\u001b[0m\u001b[1;33m\u001b[0m\u001b[1;33m\u001b[0m\u001b[0m\n",
      "\u001b[1;32mC:\\Software\\WPy64-3980\\python-3.9.8.amd64\\lib\\site-packages\\pandas\\_libs\\index.pyx\u001b[0m in \u001b[0;36mpandas._libs.index.IndexEngine.get_loc\u001b[1;34m()\u001b[0m\n",
      "\u001b[1;32mC:\\Software\\WPy64-3980\\python-3.9.8.amd64\\lib\\site-packages\\pandas\\_libs\\index.pyx\u001b[0m in \u001b[0;36mpandas._libs.index.IndexEngine.get_loc\u001b[1;34m()\u001b[0m\n",
      "\u001b[1;32mpandas\\_libs\\hashtable_class_helper.pxi\u001b[0m in \u001b[0;36mpandas._libs.hashtable.PyObjectHashTable.get_item\u001b[1;34m()\u001b[0m\n",
      "\u001b[1;32mpandas\\_libs\\hashtable_class_helper.pxi\u001b[0m in \u001b[0;36mpandas._libs.hashtable.PyObjectHashTable.get_item\u001b[1;34m()\u001b[0m\n",
      "\u001b[1;31mKeyError\u001b[0m: 'Geschwindigkeit'",
      "\nThe above exception was the direct cause of the following exception:\n",
      "\u001b[1;31mKeyError\u001b[0m                                  Traceback (most recent call last)",
      "\u001b[1;32m~\\AppData\\Local\\Temp/ipykernel_11656/551565123.py\u001b[0m in \u001b[0;36m<module>\u001b[1;34m\u001b[0m\n\u001b[1;32m----> 1\u001b[1;33m \u001b[0mdf\u001b[0m\u001b[1;33m[\u001b[0m\u001b[1;34m\"Geschwindigkeit\"\u001b[0m\u001b[1;33m]\u001b[0m\u001b[1;33m.\u001b[0m\u001b[0mmax\u001b[0m\u001b[1;33m(\u001b[0m\u001b[1;33m)\u001b[0m\u001b[1;33m\u001b[0m\u001b[1;33m\u001b[0m\u001b[0m\n\u001b[0m",
      "\u001b[1;32mC:\\Software\\WPy64-3980\\python-3.9.8.amd64\\lib\\site-packages\\pandas\\core\\frame.py\u001b[0m in \u001b[0;36m__getitem__\u001b[1;34m(self, key)\u001b[0m\n\u001b[0;32m   3456\u001b[0m             \u001b[1;32mif\u001b[0m \u001b[0mself\u001b[0m\u001b[1;33m.\u001b[0m\u001b[0mcolumns\u001b[0m\u001b[1;33m.\u001b[0m\u001b[0mnlevels\u001b[0m \u001b[1;33m>\u001b[0m \u001b[1;36m1\u001b[0m\u001b[1;33m:\u001b[0m\u001b[1;33m\u001b[0m\u001b[1;33m\u001b[0m\u001b[0m\n\u001b[0;32m   3457\u001b[0m                 \u001b[1;32mreturn\u001b[0m \u001b[0mself\u001b[0m\u001b[1;33m.\u001b[0m\u001b[0m_getitem_multilevel\u001b[0m\u001b[1;33m(\u001b[0m\u001b[0mkey\u001b[0m\u001b[1;33m)\u001b[0m\u001b[1;33m\u001b[0m\u001b[1;33m\u001b[0m\u001b[0m\n\u001b[1;32m-> 3458\u001b[1;33m             \u001b[0mindexer\u001b[0m \u001b[1;33m=\u001b[0m \u001b[0mself\u001b[0m\u001b[1;33m.\u001b[0m\u001b[0mcolumns\u001b[0m\u001b[1;33m.\u001b[0m\u001b[0mget_loc\u001b[0m\u001b[1;33m(\u001b[0m\u001b[0mkey\u001b[0m\u001b[1;33m)\u001b[0m\u001b[1;33m\u001b[0m\u001b[1;33m\u001b[0m\u001b[0m\n\u001b[0m\u001b[0;32m   3459\u001b[0m             \u001b[1;32mif\u001b[0m \u001b[0mis_integer\u001b[0m\u001b[1;33m(\u001b[0m\u001b[0mindexer\u001b[0m\u001b[1;33m)\u001b[0m\u001b[1;33m:\u001b[0m\u001b[1;33m\u001b[0m\u001b[1;33m\u001b[0m\u001b[0m\n\u001b[0;32m   3460\u001b[0m                 \u001b[0mindexer\u001b[0m \u001b[1;33m=\u001b[0m \u001b[1;33m[\u001b[0m\u001b[0mindexer\u001b[0m\u001b[1;33m]\u001b[0m\u001b[1;33m\u001b[0m\u001b[1;33m\u001b[0m\u001b[0m\n",
      "\u001b[1;32mC:\\Software\\WPy64-3980\\python-3.9.8.amd64\\lib\\site-packages\\pandas\\core\\indexes\\base.py\u001b[0m in \u001b[0;36mget_loc\u001b[1;34m(self, key, method, tolerance)\u001b[0m\n\u001b[0;32m   3361\u001b[0m                 \u001b[1;32mreturn\u001b[0m \u001b[0mself\u001b[0m\u001b[1;33m.\u001b[0m\u001b[0m_engine\u001b[0m\u001b[1;33m.\u001b[0m\u001b[0mget_loc\u001b[0m\u001b[1;33m(\u001b[0m\u001b[0mcasted_key\u001b[0m\u001b[1;33m)\u001b[0m\u001b[1;33m\u001b[0m\u001b[1;33m\u001b[0m\u001b[0m\n\u001b[0;32m   3362\u001b[0m             \u001b[1;32mexcept\u001b[0m \u001b[0mKeyError\u001b[0m \u001b[1;32mas\u001b[0m \u001b[0merr\u001b[0m\u001b[1;33m:\u001b[0m\u001b[1;33m\u001b[0m\u001b[1;33m\u001b[0m\u001b[0m\n\u001b[1;32m-> 3363\u001b[1;33m                 \u001b[1;32mraise\u001b[0m \u001b[0mKeyError\u001b[0m\u001b[1;33m(\u001b[0m\u001b[0mkey\u001b[0m\u001b[1;33m)\u001b[0m \u001b[1;32mfrom\u001b[0m \u001b[0merr\u001b[0m\u001b[1;33m\u001b[0m\u001b[1;33m\u001b[0m\u001b[0m\n\u001b[0m\u001b[0;32m   3364\u001b[0m \u001b[1;33m\u001b[0m\u001b[0m\n\u001b[0;32m   3365\u001b[0m         \u001b[1;32mif\u001b[0m \u001b[0mis_scalar\u001b[0m\u001b[1;33m(\u001b[0m\u001b[0mkey\u001b[0m\u001b[1;33m)\u001b[0m \u001b[1;32mand\u001b[0m \u001b[0misna\u001b[0m\u001b[1;33m(\u001b[0m\u001b[0mkey\u001b[0m\u001b[1;33m)\u001b[0m \u001b[1;32mand\u001b[0m \u001b[1;32mnot\u001b[0m \u001b[0mself\u001b[0m\u001b[1;33m.\u001b[0m\u001b[0mhasnans\u001b[0m\u001b[1;33m:\u001b[0m\u001b[1;33m\u001b[0m\u001b[1;33m\u001b[0m\u001b[0m\n",
      "\u001b[1;31mKeyError\u001b[0m: 'Geschwindigkeit'"
     ]
    }
   ],
   "source": [
    "df[\"Geschwindigkeit\"].max()"
   ]
  },
  {
   "cell_type": "markdown",
   "id": "b9ecd682",
   "metadata": {},
   "source": [
    "# 2. Callbacks\n"
   ]
  },
  {
   "cell_type": "code",
   "execution_count": 74,
   "id": "ce9c0528",
   "metadata": {
    "scrolled": true
   },
   "outputs": [
    {
     "name": "stdout",
     "output_type": "stream",
     "text": [
      "Dash app running on http://127.0.0.1:8050/\n",
      "Geschwindigkeit\n"
     ]
    }
   ],
   "source": [
    "from jupyter_dash import JupyterDash\n",
    "from dash import dcc\n",
    "from dash import html\n",
    "import numpy as np\n",
    "import pandas as pd\n",
    "import plotly.express as px\n",
    "from dash.dependencies import Input, Output\n",
    "df = pd.read_csv(\"Log_SensorCar_USS_n.csv\")\n",
    "\n",
    "\n",
    "app = JupyterDash()\n",
    "\n",
    "\n",
    "app.layout = html.Div(\n",
    "    children=[\n",
    "        html.H1(id='H1',\n",
    "                children='HTML Component',\n",
    "                style={'textAlign': 'center', 'marginTop': 40, 'marginBottom': 40}),\n",
    "        html.H1(id='H2',\n",
    "                children='2nd HTML Component'),\n",
    "        html.Div(children='Ein ganz normaler Container (div) für Fließende Objekte'),\n",
    "        dcc.Dropdown(id='dropdown',\n",
    "                     options=[\n",
    "                         {'label': 'Geschwindigkeit', 'value': 'Geschwindigkeit'},\n",
    "                         {'label': 'Fahrtrichtung', 'value': 'Fahrtrichtung'},\n",
    "                         {'label': 'Lenkwinkel', 'value': 'Lenkwinkel'},\n",
    "                         {'label': 'Abstand_Hindernis', 'value': 'Abstand_Hindernis'},\n",
    "                     ],\n",
    "                     value='Geschwindigkeit'),\n",
    "        dcc.Graph(id='line_plot'),\n",
    "    ]\n",
    ")\n",
    "\n",
    "\n",
    "@app.callback(Output(component_id='line_plot', component_property='figure'),\n",
    "              [Input(component_id='dropdown', component_property='value')])\n",
    "def graph_update(value_of_input_component):\n",
    "    print(value_of_input_component)\n",
    "    fig = px.line(df, x=df[\"Zeit\"], y=df[value_of_input_component])\n",
    "    return fig\n",
    "\n",
    "\n",
    "if __name__ == '__main__':\n",
    "    app.run_server()\n"
   ]
  },
  {
   "cell_type": "code",
   "execution_count": 76,
   "id": "76f18736",
   "metadata": {},
   "outputs": [
    {
     "name": "stdout",
     "output_type": "stream",
     "text": [
      "Dash app running on http://127.0.0.1:8050/\n"
     ]
    }
   ],
   "source": [
    "from jupyter_dash import JupyterDash\n",
    "from dash import dcc\n",
    "from dash import html\n",
    "import numpy as np\n",
    "import pandas as pd\n",
    "import plotly.express as px\n",
    "from dash.dependencies import Input, Output\n",
    "import dash_bootstrap_components as dbc\n",
    "df = pd.read_csv(\"Log_SensorCar_USS_n.csv\")\n",
    "\n",
    "\n",
    "app = JupyterDash()\n",
    "\n",
    "app = JupyterDash(external_stylesheets=[dbc.themes.BOOTSTRAP])\n",
    "df = px.data.stocks()\n",
    "\n",
    "#cards = html.Div(\n",
    "#    [\n",
    "#        dbc.Card(\n",
    "#            dbc.CardBody(\"Dies ist ein Text innerhalb eines cary bodys\"),\n",
    "#            className=\"card-text\",\n",
    "#        ),\n",
    "#        dbc.Card(\"Dies ist auch innerhalb eines bodys\", body=True),\n",
    "#    ]\n",
    "#)\n",
    "\n",
    "cards0 = html.Div(\n",
    "    [\n",
    "        dbc.Card(\n",
    "            dbc.CardBody(\"Geschwindigkeit min:\"),\n",
    "            className=\"card-text\",\n",
    "        )\n",
    "    ]\n",
    ")\n",
    "\n",
    "cards1 = html.Div(\n",
    "    [\n",
    "        dbc.Card(\n",
    "            dbc.CardBody(\"Geschwindigkeit max:\"),\n",
    "            className=\"card-text\",\n",
    "        )\n",
    "    ]\n",
    ")\n",
    "\n",
    "cards2 = html.Div(\n",
    "    [\n",
    "        dbc.Card(\n",
    "            dbc.CardBody(\"Geschwindigkeit Durchschnitt:\"),\n",
    "            className=\"card-text\",\n",
    "        )\n",
    "    ]\n",
    ")\n",
    "\n",
    "cards3 = html.Div(\n",
    "    [\n",
    "        dbc.Card(\n",
    "            dbc.CardBody(\"Distanz\"),\n",
    "            className=\"card-text\",\n",
    "        )\n",
    "    ]\n",
    ")\n",
    "\n",
    "app.layout = html.Div(\n",
    "    children=[\n",
    "        html.H1(id='H1',\n",
    "                children='Aufgabe 1',\n",
    "                style={'textAlign': 'center', 'marginTop': 40, 'marginBottom': 40}),\n",
    "        html.H1(id='H2',\n",
    "                children='Durchschnittswerte'),\n",
    "        html.Br(),\n",
    "        dbc.Row([\n",
    "            dbc.Col([cards0], width=8),\n",
    "            dbc.Col([cards1], width=8),\n",
    "            dbc.Col([cards2], width=8),\n",
    "            dbc.Col([cards3], width=8),\n",
    "        ], align='center'),\n",
    "    ]\n",
    ")\n",
    "\n",
    "if __name__ == '__main__':\n",
    "    app.run_server()\n"
   ]
  },
  {
   "cell_type": "markdown",
   "id": "2a46f93e",
   "metadata": {},
   "source": [
    "# 3. Bootstrap\n"
   ]
  },
  {
   "cell_type": "code",
   "execution_count": 75,
   "id": "2dbe412d",
   "metadata": {},
   "outputs": [
    {
     "name": "stdout",
     "output_type": "stream",
     "text": [
      "Dash app running on http://127.0.0.1:8050/\n",
      "GOOG\n"
     ]
    }
   ],
   "source": [
    "from jupyter_dash import JupyterDash\n",
    "from dash import dcc\n",
    "from dash import html\n",
    "import plotly.express as px\n",
    "from dash.dependencies import Input, Output\n",
    "import dash_bootstrap_components as dbc\n",
    "\n",
    "\n",
    "app = JupyterDash(external_stylesheets=[dbc.themes.BOOTSTRAP])\n",
    "df = px.data.stocks()\n",
    "\n",
    "cards = html.Div(\n",
    "    [\n",
    "        dbc.Card(\n",
    "            dbc.CardBody(\"Dies ist ein Text innerhalb eines cary bodys\"),\n",
    "            className=\"card-text\",\n",
    "        ),\n",
    "        dbc.Card(\"Dies ist auch innerhalb eines bodys\", body=True),\n",
    "    ]\n",
    ")\n",
    "\n",
    "app.layout = html.Div(\n",
    "    children=[\n",
    "        html.H1(id='H1',\n",
    "                children='HTML Component',\n",
    "                style={'textAlign': 'center', 'marginTop': 40, 'marginBottom': 40}),\n",
    "        html.H1(id='H2',\n",
    "                children='2nd HTML Component'),\n",
    "        html.Div(children='Ein ganz normaler Container (div) für Fließende Objekte'),\n",
    "        dcc.Dropdown(id='dropdown',\n",
    "                     options=[\n",
    "                         {'label': 'Google', 'value': 'GOOG'},\n",
    "                         {'label': 'Apple', 'value': 'AAPL'},\n",
    "                         {'label': 'Amazon', 'value': 'AMZN'},\n",
    "                     ],\n",
    "                     value='GOOG'),\n",
    "        dcc.Graph(id='line_plot'),\n",
    "        html.Br(),\n",
    "        dbc.Row([\n",
    "            dbc.Col([cards], width=5),\n",
    "            dbc.Col([cards], width=3),\n",
    "        ], align='center'),\n",
    "    ]\n",
    ")\n",
    "\n",
    "\n",
    "# Callback für den Plot als Ausgabe (siehe 'line_plot') und den Wert des Dropdown Menüs als Eingabe\n",
    "@app.callback(Output(component_id='line_plot', component_property='figure'),\n",
    "              [Input(component_id='dropdown', component_property='value')])\n",
    "def graph_update(value_of_input_component):\n",
    "    print(value_of_input_component)\n",
    "    fig = px.line(df, x=df['date'], y=df[value_of_input_component])\n",
    "    return fig\n",
    "\n",
    "\n",
    "if __name__ == '__main__':\n",
    "    app.run_server()\n"
   ]
  },
  {
   "cell_type": "code",
   "execution_count": null,
   "id": "87e2f901",
   "metadata": {},
   "outputs": [],
   "source": []
  }
 ],
 "metadata": {
  "kernelspec": {
   "display_name": "Python 3 (ipykernel)",
   "language": "python",
   "name": "python3"
  },
  "language_info": {
   "codemirror_mode": {
    "name": "ipython",
    "version": 3
   },
   "file_extension": ".py",
   "mimetype": "text/x-python",
   "name": "python",
   "nbconvert_exporter": "python",
   "pygments_lexer": "ipython3",
   "version": "3.9.8"
  }
 },
 "nbformat": 4,
 "nbformat_minor": 5
}
